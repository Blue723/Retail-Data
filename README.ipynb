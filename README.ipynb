{
 "cells": [
  {
   "cell_type": "markdown",
   "id": "5c9a513b-607e-4789-8629-d6ca3696290e",
   "metadata": {},
   "source": [
    "![pic](pic.jpg)"
   ]
  },
  {
   "cell_type": "markdown",
   "id": "a18c0d59-7393-401f-a3f3-f040c3b82c6a",
   "metadata": {},
   "source": [
    "This project aims to analyze a Retail dataset and segment customers into At Risk, Recent Customers, Big Spenders, Frequent Low Spenders in order to determine which customers to focus advertising sales and discounts for the best ROI. "
   ]
  }
 ],
 "metadata": {
  "kernelspec": {
   "display_name": "Python 3 (ipykernel)",
   "language": "python",
   "name": "python3"
  },
  "language_info": {
   "codemirror_mode": {
    "name": "ipython",
    "version": 3
   },
   "file_extension": ".py",
   "mimetype": "text/x-python",
   "name": "python",
   "nbconvert_exporter": "python",
   "pygments_lexer": "ipython3",
   "version": "3.11.5"
  }
 },
 "nbformat": 4,
 "nbformat_minor": 5
}
